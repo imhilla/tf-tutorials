{
  "nbformat": 4,
  "nbformat_minor": 0,
  "metadata": {
    "colab": {
      "provenance": [],
      "authorship_tag": "ABX9TyND3Z8DyDqtNJl/d0xptwf/",
      "include_colab_link": true
    },
    "kernelspec": {
      "name": "python3",
      "display_name": "Python 3"
    },
    "language_info": {
      "name": "python"
    }
  },
  "cells": [
    {
      "cell_type": "markdown",
      "metadata": {
        "id": "view-in-github",
        "colab_type": "text"
      },
      "source": [
        "<a href=\"https://colab.research.google.com/github/imhilla/tf-tutorials/blob/main/cv_cnn.ipynb\" target=\"_parent\"><img src=\"https://colab.research.google.com/assets/colab-badge.svg\" alt=\"Open In Colab\"/></a>"
      ]
    },
    {
      "cell_type": "code",
      "execution_count": 10,
      "metadata": {
        "id": "jqn52rxtCc1K"
      },
      "outputs": [],
      "source": [
        "import tensorflow as tf\n"
      ]
    },
    {
      "cell_type": "code",
      "source": [
        "data = tf.keras.datasets.fashion_mnist\n",
        "(training_images, training_labels), (test_images, test_labels) = data.load_data()"
      ],
      "metadata": {
        "id": "NwllhORmGVa8"
      },
      "execution_count": 11,
      "outputs": []
    },
    {
      "cell_type": "code",
      "source": [
        "training_images = training_images.reshape(60000, 28, 28, 1)\n",
        "training_images = training_images / 255.0\n",
        "\n",
        "test_images = test_images.reshape(10000, 28, 28, 1)\n",
        "test_images = test_images / 255.0"
      ],
      "metadata": {
        "id": "po2VCjd2Goey"
      },
      "execution_count": 12,
      "outputs": []
    },
    {
      "cell_type": "code",
      "source": [
        "model = tf.keras.models.Sequential([\n",
        "    tf.keras.layers.Conv2D(64, (3,3), activation='relu', input_shape=(28, 28, 1)),\n",
        "    tf.keras.layers.MaxPooling2D(2, 2),\n",
        "    tf.keras.layers.Conv2D(64, (3, 3), activation='relu'),\n",
        "    tf.keras.layers.MaxPooling2D(2, 2),\n",
        "    tf.keras.layers.Flatten(),\n",
        "    tf.keras.layers.Dense(128, activation=tf.nn.relu),\n",
        "    tf.keras.layers.Dense(10, activation=tf.nn.softmax)\n",
        "])"
      ],
      "metadata": {
        "id": "uLmjcKbkHQfp"
      },
      "execution_count": 13,
      "outputs": []
    },
    {
      "cell_type": "code",
      "source": [
        "model.compile(\n",
        "    optimizer='adam',\n",
        "    loss='sparse_categorical_crossentropy',\n",
        "    metrics=['accuracy'],\n",
        ")"
      ],
      "metadata": {
        "id": "hj8Uu7oyJJnd"
      },
      "execution_count": 15,
      "outputs": []
    },
    {
      "cell_type": "code",
      "source": [
        "model.fit(training_images, training_labels, epochs=50)"
      ],
      "metadata": {
        "colab": {
          "base_uri": "https://localhost:8080/"
        },
        "id": "GSixqW_kK4Zd",
        "outputId": "cd7f16e6-7880-4365-b442-881b0a027ca3"
      },
      "execution_count": 16,
      "outputs": [
        {
          "output_type": "stream",
          "name": "stdout",
          "text": [
            "Epoch 1/50\n",
            "1875/1875 [==============================] - 108s 57ms/step - loss: 0.4440 - accuracy: 0.8378\n",
            "Epoch 2/50\n",
            "1875/1875 [==============================] - 84s 45ms/step - loss: 0.2995 - accuracy: 0.8899\n",
            "Epoch 3/50\n",
            "1875/1875 [==============================] - 86s 46ms/step - loss: 0.2503 - accuracy: 0.9074\n",
            "Epoch 4/50\n",
            "1875/1875 [==============================] - 81s 43ms/step - loss: 0.2193 - accuracy: 0.9187\n",
            "Epoch 5/50\n",
            "1875/1875 [==============================] - 82s 44ms/step - loss: 0.1906 - accuracy: 0.9282\n",
            "Epoch 6/50\n",
            "1875/1875 [==============================] - 82s 44ms/step - loss: 0.1695 - accuracy: 0.9359\n",
            "Epoch 7/50\n",
            "1875/1875 [==============================] - 81s 43ms/step - loss: 0.1490 - accuracy: 0.9441\n",
            "Epoch 8/50\n",
            "1875/1875 [==============================] - 83s 44ms/step - loss: 0.1307 - accuracy: 0.9507\n",
            "Epoch 9/50\n",
            "1875/1875 [==============================] - 81s 43ms/step - loss: 0.1150 - accuracy: 0.9562\n",
            "Epoch 10/50\n",
            "1875/1875 [==============================] - 81s 43ms/step - loss: 0.0995 - accuracy: 0.9619\n",
            "Epoch 11/50\n",
            "1875/1875 [==============================] - 83s 44ms/step - loss: 0.0880 - accuracy: 0.9667\n",
            "Epoch 12/50\n",
            "1875/1875 [==============================] - 82s 44ms/step - loss: 0.0802 - accuracy: 0.9693\n",
            "Epoch 13/50\n",
            "1875/1875 [==============================] - 82s 44ms/step - loss: 0.0684 - accuracy: 0.9743\n",
            "Epoch 14/50\n",
            "1875/1875 [==============================] - 82s 44ms/step - loss: 0.0629 - accuracy: 0.9764\n",
            "Epoch 15/50\n",
            "1875/1875 [==============================] - 82s 44ms/step - loss: 0.0558 - accuracy: 0.9785\n",
            "Epoch 16/50\n",
            "1875/1875 [==============================] - 82s 44ms/step - loss: 0.0520 - accuracy: 0.9800\n",
            "Epoch 17/50\n",
            "1875/1875 [==============================] - 83s 44ms/step - loss: 0.0436 - accuracy: 0.9835\n",
            "Epoch 18/50\n",
            "1875/1875 [==============================] - 80s 43ms/step - loss: 0.0407 - accuracy: 0.9853\n",
            "Epoch 19/50\n",
            "1875/1875 [==============================] - 82s 44ms/step - loss: 0.0418 - accuracy: 0.9848\n",
            "Epoch 20/50\n",
            "1875/1875 [==============================] - 82s 44ms/step - loss: 0.0365 - accuracy: 0.9865\n",
            "Epoch 21/50\n",
            "1875/1875 [==============================] - 82s 44ms/step - loss: 0.0355 - accuracy: 0.9867\n",
            "Epoch 22/50\n",
            "1875/1875 [==============================] - 82s 44ms/step - loss: 0.0336 - accuracy: 0.9878\n",
            "Epoch 23/50\n",
            "1875/1875 [==============================] - 80s 43ms/step - loss: 0.0312 - accuracy: 0.9886\n",
            "Epoch 24/50\n",
            "1875/1875 [==============================] - 82s 43ms/step - loss: 0.0288 - accuracy: 0.9897\n",
            "Epoch 25/50\n",
            "1875/1875 [==============================] - 81s 43ms/step - loss: 0.0288 - accuracy: 0.9899\n",
            "Epoch 26/50\n",
            "1875/1875 [==============================] - 80s 43ms/step - loss: 0.0284 - accuracy: 0.9896\n",
            "Epoch 27/50\n",
            "1875/1875 [==============================] - 83s 44ms/step - loss: 0.0273 - accuracy: 0.9904\n",
            "Epoch 28/50\n",
            "1875/1875 [==============================] - 82s 44ms/step - loss: 0.0273 - accuracy: 0.9904\n",
            "Epoch 29/50\n",
            "1875/1875 [==============================] - 82s 44ms/step - loss: 0.0252 - accuracy: 0.9911\n",
            "Epoch 30/50\n",
            "1875/1875 [==============================] - 83s 44ms/step - loss: 0.0236 - accuracy: 0.9917\n",
            "Epoch 31/50\n",
            "1875/1875 [==============================] - 80s 43ms/step - loss: 0.0260 - accuracy: 0.9911\n",
            "Epoch 32/50\n",
            "1875/1875 [==============================] - 80s 43ms/step - loss: 0.0223 - accuracy: 0.9925\n",
            "Epoch 33/50\n",
            "1875/1875 [==============================] - 81s 43ms/step - loss: 0.0215 - accuracy: 0.9925\n",
            "Epoch 34/50\n",
            "1875/1875 [==============================] - 81s 43ms/step - loss: 0.0211 - accuracy: 0.9928\n",
            "Epoch 35/50\n",
            "1875/1875 [==============================] - 80s 43ms/step - loss: 0.0222 - accuracy: 0.9923\n",
            "Epoch 36/50\n",
            "1875/1875 [==============================] - 81s 43ms/step - loss: 0.0241 - accuracy: 0.9923\n",
            "Epoch 37/50\n",
            "1875/1875 [==============================] - 82s 44ms/step - loss: 0.0186 - accuracy: 0.9936\n",
            "Epoch 38/50\n",
            "1875/1875 [==============================] - 79s 42ms/step - loss: 0.0170 - accuracy: 0.9943\n",
            "Epoch 39/50\n",
            "1875/1875 [==============================] - 80s 42ms/step - loss: 0.0263 - accuracy: 0.9915\n",
            "Epoch 40/50\n",
            "1875/1875 [==============================] - 81s 43ms/step - loss: 0.0166 - accuracy: 0.9945\n",
            "Epoch 41/50\n",
            "1875/1875 [==============================] - 82s 44ms/step - loss: 0.0225 - accuracy: 0.9927\n",
            "Epoch 42/50\n",
            "1875/1875 [==============================] - 80s 43ms/step - loss: 0.0179 - accuracy: 0.9938\n",
            "Epoch 43/50\n",
            "1875/1875 [==============================] - 80s 43ms/step - loss: 0.0202 - accuracy: 0.9936\n",
            "Epoch 44/50\n",
            "1875/1875 [==============================] - 81s 43ms/step - loss: 0.0166 - accuracy: 0.9946\n",
            "Epoch 45/50\n",
            "1875/1875 [==============================] - 81s 43ms/step - loss: 0.0195 - accuracy: 0.9937\n",
            "Epoch 46/50\n",
            "1875/1875 [==============================] - 80s 43ms/step - loss: 0.0162 - accuracy: 0.9947\n",
            "Epoch 47/50\n",
            "1875/1875 [==============================] - 83s 44ms/step - loss: 0.0193 - accuracy: 0.9942\n",
            "Epoch 48/50\n",
            "1875/1875 [==============================] - 82s 44ms/step - loss: 0.0171 - accuracy: 0.9948\n",
            "Epoch 49/50\n",
            "1875/1875 [==============================] - 81s 43ms/step - loss: 0.0159 - accuracy: 0.9951\n",
            "Epoch 50/50\n",
            "1875/1875 [==============================] - 82s 44ms/step - loss: 0.0214 - accuracy: 0.9931\n"
          ]
        },
        {
          "output_type": "execute_result",
          "data": {
            "text/plain": [
              "<keras.src.callbacks.History at 0x7e86d3e32b00>"
            ]
          },
          "metadata": {},
          "execution_count": 16
        }
      ]
    },
    {
      "cell_type": "code",
      "source": [
        "model.evaluate(test_images, test_labels)"
      ],
      "metadata": {
        "colab": {
          "base_uri": "https://localhost:8080/"
        },
        "id": "4VikmTq_LGmC",
        "outputId": "42596248-af67-44af-849a-a1b615b692db"
      },
      "execution_count": 17,
      "outputs": [
        {
          "output_type": "stream",
          "name": "stdout",
          "text": [
            "313/313 [==============================] - 4s 11ms/step - loss: 0.9755 - accuracy: 0.9118\n"
          ]
        },
        {
          "output_type": "execute_result",
          "data": {
            "text/plain": [
              "[0.9754707217216492, 0.9118000268936157]"
            ]
          },
          "metadata": {},
          "execution_count": 17
        }
      ]
    },
    {
      "cell_type": "code",
      "source": [
        "classifications = model.predict(test_images)\n",
        "print(classifications[0])\n",
        "print(test_labels[0])"
      ],
      "metadata": {
        "colab": {
          "base_uri": "https://localhost:8080/"
        },
        "id": "kFFUJJGFLMTQ",
        "outputId": "76a3889e-3005-49ed-be0f-41f63b987d47"
      },
      "execution_count": 18,
      "outputs": [
        {
          "output_type": "stream",
          "name": "stdout",
          "text": [
            "313/313 [==============================] - 4s 11ms/step\n",
            "[1.8933939e-29 3.7193114e-28 1.3256552e-21 1.0037868e-31 9.8067115e-20\n",
            " 4.3214949e-20 6.7983227e-29 2.1949102e-21 6.5623415e-30 9.9999994e-01]\n",
            "9\n"
          ]
        }
      ]
    },
    {
      "cell_type": "code",
      "source": [
        "model.summary()"
      ],
      "metadata": {
        "colab": {
          "base_uri": "https://localhost:8080/"
        },
        "id": "NTA-M-frO7mr",
        "outputId": "6b1de0b2-551e-4baa-c983-1a9f1860e2df"
      },
      "execution_count": 19,
      "outputs": [
        {
          "output_type": "stream",
          "name": "stdout",
          "text": [
            "Model: \"sequential\"\n",
            "_________________________________________________________________\n",
            " Layer (type)                Output Shape              Param #   \n",
            "=================================================================\n",
            " conv2d (Conv2D)             (None, 26, 26, 64)        640       \n",
            "                                                                 \n",
            " max_pooling2d (MaxPooling2  (None, 13, 13, 64)        0         \n",
            " D)                                                              \n",
            "                                                                 \n",
            " conv2d_1 (Conv2D)           (None, 11, 11, 64)        36928     \n",
            "                                                                 \n",
            " max_pooling2d_1 (MaxPoolin  (None, 5, 5, 64)          0         \n",
            " g2D)                                                            \n",
            "                                                                 \n",
            " flatten (Flatten)           (None, 1600)              0         \n",
            "                                                                 \n",
            " dense (Dense)               (None, 128)               204928    \n",
            "                                                                 \n",
            " dense_1 (Dense)             (None, 10)                1290      \n",
            "                                                                 \n",
            "=================================================================\n",
            "Total params: 243786 (952.29 KB)\n",
            "Trainable params: 243786 (952.29 KB)\n",
            "Non-trainable params: 0 (0.00 Byte)\n",
            "_________________________________________________________________\n"
          ]
        }
      ]
    }
  ]
}